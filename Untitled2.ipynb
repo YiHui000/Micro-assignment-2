{
  "nbformat": 4,
  "nbformat_minor": 0,
  "metadata": {
    "colab": {
      "name": "Untitled2.ipynb",
      "provenance": [],
      "authorship_tag": "ABX9TyP0jHSLYJtegIcjNC9WKqjq",
      "include_colab_link": true
    },
    "kernelspec": {
      "name": "python3",
      "display_name": "Python 3"
    },
    "language_info": {
      "name": "python"
    }
  },
  "cells": [
    {
      "cell_type": "markdown",
      "metadata": {
        "id": "view-in-github",
        "colab_type": "text"
      },
      "source": [
        "<a href=\"https://colab.research.google.com/github/YiHui000/Micro-assignment-2/blob/main/Untitled2.ipynb\" target=\"_parent\"><img src=\"https://colab.research.google.com/assets/colab-badge.svg\" alt=\"Open In Colab\"/></a>"
      ]
    },
    {
      "cell_type": "code",
      "execution_count": null,
      "metadata": {
        "colab": {
          "base_uri": "https://localhost:8080/"
        },
        "id": "gGL55wDHJbrx",
        "outputId": "8fefd4be-a51a-4128-9c06-87b2c02c8e81"
      },
      "outputs": [
        {
          "output_type": "stream",
          "name": "stdout",
          "text": [
            "Admission price is $8\n"
          ]
        }
      ],
      "source": [
        "age = 19\n",
        "if age < 5:\n",
        "  print('Admission price is free')\n",
        "elif age < 18:\n",
        "  print('Admission price is $5')\n",
        "elif age == 18:\n",
        "  print('Admission price is $7')\n",
        "if age == 19:\n",
        "  print('Admission price is $8')\n",
        "else:\n",
        "  print('Admission price is $10')"
      ]
    },
    {
      "cell_type": "code",
      "source": [
        "age = 19\n",
        "if age < 5:\n",
        "  price = 0\n",
        "elif age < 18:\n",
        "  price = 5\n",
        "else:\n",
        "  price = 10\n",
        "\n",
        "AAA_status = 'Yes'\n",
        "if AAA_status == 'Yes':\n",
        "  price = price * .85\n",
        "else: price\n",
        "\n",
        "print(price)"
      ],
      "metadata": {
        "colab": {
          "base_uri": "https://localhost:8080/"
        },
        "id": "3bvkgnkkL9tj",
        "outputId": "439ad609-c0a4-4d98-e134-c6c05dc994a9"
      },
      "execution_count": null,
      "outputs": [
        {
          "output_type": "stream",
          "name": "stdout",
          "text": [
            "8.5\n"
          ]
        }
      ]
    },
    {
      "cell_type": "code",
      "source": [
        "age = input('what is your age')\n",
        "AAA_status = input('Are you a member for AAA?')\n",
        "age = int(age)\n",
        "if (age) < 5:\n",
        "  price = 0\n",
        "elif (age) < 18:\n",
        "  price = 5\n",
        "else:\n",
        "  price = 10\n",
        "\n",
        "if AAA_status == 'Yes':\n",
        "  price = price * .85\n",
        "else:price\n",
        "print('Your admissions fee is:' + str(price))\n"
      ],
      "metadata": {
        "colab": {
          "base_uri": "https://localhost:8080/"
        },
        "id": "5bORhH21NCJL",
        "outputId": "829606f8-3cba-4392-a316-42e3b3c56c72"
      },
      "execution_count": null,
      "outputs": [
        {
          "output_type": "stream",
          "name": "stdout",
          "text": [
            "what is your age18\n",
            "Are you a member for AAA?yes\n",
            "Your admissions fee is:10\n"
          ]
        }
      ]
    },
    {
      "cell_type": "code",
      "source": [
        "topping = ['chocolate', 'sprinkles']\n",
        "\n",
        "if 'chocolate' in topping:\n",
        "  print('you have added choc0late')\n",
        "if 'sprinkles' in topping:\n",
        "  print('you have added sprinkles')\n",
        "if 'peanuts' in topping:\n",
        "  print('you have added peanuts')"
      ],
      "metadata": {
        "colab": {
          "base_uri": "https://localhost:8080/"
        },
        "id": "Hfh6nuJNQCb-",
        "outputId": "dd40bbf4-8dcf-4c2a-b67c-5fa0ed008930"
      },
      "execution_count": null,
      "outputs": [
        {
          "output_type": "stream",
          "name": "stdout",
          "text": [
            "you have added choc0late\n",
            "you have added sprinkles\n"
          ]
        }
      ]
    },
    {
      "cell_type": "code",
      "source": [
        ""
      ],
      "metadata": {
        "id": "gb064RbTRjst"
      },
      "execution_count": null,
      "outputs": []
    },
    {
      "cell_type": "code",
      "source": [
        ""
      ],
      "metadata": {
        "id": "uihfLP9AQ9eH"
      },
      "execution_count": null,
      "outputs": []
    }
  ]
}